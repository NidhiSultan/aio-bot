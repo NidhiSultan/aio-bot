{
 "cells": [
  {
   "cell_type": "code",
   "execution_count": 1,
   "metadata": {},
   "outputs": [],
   "source": [
    "from chatbot import Chat,reflections,multiFunctionCall\n",
    "import wikipedia"
   ]
  },
  {
   "cell_type": "code",
   "execution_count": 2,
   "metadata": {},
   "outputs": [],
   "source": [
    "def whoIs(query,sessionID=\"general\"):\n",
    "    try:\n",
    "        return wikipedia.summary(query)\n",
    "    except:\n",
    "        for newquery in wikipedia.search(query):\n",
    "            try:\n",
    "                return wikipedia.summary(newquery)\n",
    "            except:\n",
    "                pass\n",
    "    return \"I don't know about \"+query"
   ]
  },
  {
   "cell_type": "code",
   "execution_count": 3,
   "metadata": {},
   "outputs": [
    {
     "name": "stderr",
     "output_type": "stream",
     "text": [
      "Using TensorFlow backend.\n"
     ]
    }
   ],
   "source": [
    "from keras.preprocessing.image import img_to_array\n",
    "import imutils\n",
    "import cv2\n",
    "from keras.models import load_model\n",
    "import numpy as np\n",
    "import playsound\n",
    "# parameters for loading data and images\n",
    "detection_model_path = 'Emotion/haarcascade_files/haarcascade_frontalface_default.xml'\n",
    "emotion_model_path = 'Emotion/models/_mini_XCEPTION.102-0.66.hdf5'\n",
    "\n",
    "# hyper-parameters for bounding boxes shape\n",
    "# loading models\n",
    "face_detection = cv2.CascadeClassifier(detection_model_path)\n",
    "emotion_classifier = load_model(emotion_model_path, compile=False)\n",
    "EMOTIONS = [\"angry\" ,\"disgust\",\"scared\", \"happy\", \"sad\", \"surprised\",\n",
    " \"neutral\"]\n",
    "\n",
    "def emo(query,sessionID=\"general\"):\n",
    "    cv2.namedWindow('your_face')\n",
    "    camera = cv2.VideoCapture(0)\n",
    "\n",
    "    while True:\n",
    "        frame = camera.read()[1]\n",
    "        frame = imutils.resize(frame,width=300)\n",
    "        gray = cv2.cvtColor(frame, cv2.COLOR_BGR2GRAY)\n",
    "        faces = face_detection.detectMultiScale(gray,scaleFactor=1.1,minNeighbors=5,minSize=(30,30),flags=cv2.CASCADE_SCALE_IMAGE)\n",
    "        canvas = np.zeros((250, 300, 3), dtype=\"uint8\")\n",
    "        frameClone = frame.copy()\n",
    "        if len(faces) > 0:\n",
    "            faces = sorted(faces, reverse=True,\n",
    "            key=lambda x: (x[2] - x[0]) * (x[3] - x[1]))[0]\n",
    "            (fX, fY, fW, fH) = faces\n",
    "            roi = gray[fY:fY + fH, fX:fX + fW]\n",
    "            roi = cv2.resize(roi, (64, 64))\n",
    "            roi = roi.astype(\"float\") / 255.0\n",
    "            roi = img_to_array(roi)\n",
    "            roi = np.expand_dims(roi, axis=0)\n",
    "            \n",
    "            preds = emotion_classifier.predict(roi)[0]\n",
    "            emotion_probability = np.max(preds)\n",
    "            label = EMOTIONS[preds.argmax()]\n",
    "\n",
    "            ee = []\n",
    "            percent = []\n",
    "            for (i, (emotion, prob)) in enumerate(zip(EMOTIONS, preds)):\n",
    "                ee.append(emotion)\n",
    "                percent.append(prob)\n",
    "            mp = percent.index(max(percent))\n",
    "\n",
    "        cv2.imshow('your_face', frameClone)\n",
    "        break\n",
    "    camera.release()\n",
    "    cv2.destroyAllWindows()\n",
    "    try:\n",
    "        return ee[mp] \n",
    "    except:\n",
    "        return \"I cannot see your face.\""
   ]
  },
  {
   "cell_type": "code",
   "execution_count": 10,
   "metadata": {},
   "outputs": [
    {
     "name": "stdout",
     "output_type": "stream",
     "text": [
      "Hi, how are you?\n",
      "> Do you remember my name\n",
      "No, I do not know your name, Can you please tell me your name?\n",
      "> my name ispratik\n",
      "Thank you my name ispratik\n",
      "> quit\n",
      "Thank you. Have a good day!\n"
     ]
    }
   ],
   "source": [
    "call = multiFunctionCall({\"whoIs\":whoIs,\"emo\":emo})\n",
    "firstQuestion=\"Hi, how are you?\"\n",
    "Chat(\"Example.template\", reflections,call=call).converse(firstQuestion)"
   ]
  },
  {
   "cell_type": "code",
   "execution_count": 1,
   "metadata": {},
   "outputs": [
    {
     "ename": "NameError",
     "evalue": "name 'g' is not defined",
     "output_type": "error",
     "traceback": [
      "\u001b[1;31m---------------------------------------------------------------------------\u001b[0m",
      "\u001b[1;31mNameError\u001b[0m                                 Traceback (most recent call last)",
      "\u001b[1;32m<ipython-input-1-a5938ace3f42>\u001b[0m in \u001b[0;36m<module>\u001b[1;34m()\u001b[0m\n\u001b[1;32m----> 1\u001b[1;33m \u001b[0mg\u001b[0m\u001b[1;33m\u001b[0m\u001b[0m\n\u001b[0m",
      "\u001b[1;31mNameError\u001b[0m: name 'g' is not defined"
     ]
    }
   ],
   "source": []
  },
  {
   "cell_type": "code",
   "execution_count": 7,
   "metadata": {},
   "outputs": [
    {
     "name": "stdout",
     "output_type": "stream",
     "text": [
      "Hi, how are you?\n",
      "> can you tell how i feel\n",
      "Some error\n",
      "> can you tell how i feel\n",
      "happy\n",
      "> exit\n",
      "I see.\n",
      "> quit\n",
      "Thank you for talking with me.\n"
     ]
    }
   ],
   "source": [
    "Chat(\"Example.template\", reflections,call=call).converse(firstQuestion)"
   ]
  },
  {
   "cell_type": "code",
   "execution_count": null,
   "metadata": {},
   "outputs": [],
   "source": []
  }
 ],
 "metadata": {
  "kernelspec": {
   "display_name": "Python 3",
   "language": "python",
   "name": "python3"
  },
  "language_info": {
   "codemirror_mode": {
    "name": "ipython",
    "version": 3
   },
   "file_extension": ".py",
   "mimetype": "text/x-python",
   "name": "python",
   "nbconvert_exporter": "python",
   "pygments_lexer": "ipython3",
   "version": "3.6.4"
  }
 },
 "nbformat": 4,
 "nbformat_minor": 2
}
